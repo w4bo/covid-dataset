{
 "cells": [
  {
   "cell_type": "code",
   "execution_count": null,
   "id": "82004db9",
   "metadata": {
    "execution": {
     "iopub.execute_input": "2022-06-15T08:45:51.883301Z",
     "iopub.status.busy": "2022-06-15T08:45:51.883104Z",
     "iopub.status.idle": "2022-06-15T08:45:54.846079Z",
     "shell.execute_reply": "2022-06-15T08:45:54.845484Z"
    }
   },
   "outputs": [],
   "source": [
    "import pandas as pd\n",
    "import sys\n",
    "from sqlalchemy import create_engine\n",
    "import os.path\n",
    "import cx_Oracle\n",
    "import sqlalchemy as sa\n",
    "from dotenv import load_dotenv\n",
    "\n",
    "load_dotenv()\n",
    "# print(os.environ)\n",
    "\n",
    "connstring = \"oracle://{}:{}@{}:{}/{}\".format(os.getenv('ORACLE_USER'), os.getenv('ORACLE_PWD'), os.getenv('ORACLE_IP'), os.getenv('ORACLE_PORT'), os.getenv('ORACLE_DB'))\n",
    "oracle_db = sa.create_engine(connstring)\n",
    "cx_Oracle.init_oracle_client(lib_dir=os.getenv('LD_LIBRARY_PATH'))\n",
    "engine = oracle_db.connect()"
   ]
  },
  {
   "cell_type": "code",
   "execution_count": null,
   "id": "bc7171fe",
   "metadata": {},
   "outputs": [],
   "source": [
    "df = pd.read_csv(\"datasets/dataset_weekly-20220614.csv\", delimiter=\",\") # , nrows=1000\n",
    "df = df[[\"country\", \"continent\", \"country_code\", \"population\", \"indicator\", \"weekly_count\", \"year_week\"]]\n",
    "df"
   ]
  },
  {
   "cell_type": "markdown",
   "id": "c8a059c2",
   "metadata": {},
   "source": [
    "Drop duplicates / null"
   ]
  },
  {
   "cell_type": "code",
   "execution_count": null,
   "id": "25c40e6f",
   "metadata": {
    "execution": {
     "iopub.execute_input": "2022-06-15T08:45:54.848178Z",
     "iopub.status.busy": "2022-06-15T08:45:54.848010Z",
     "iopub.status.idle": "2022-06-15T08:45:57.137686Z",
     "shell.execute_reply": "2022-06-15T08:45:57.136923Z"
    }
   },
   "outputs": [],
   "source": [
    "df = df[~df[\"country\"].str.contains(\"(total)\")]\n",
    "df = df[[\"country\", \"continent\", \"population\", \"indicator\", \"weekly_count\", \"year_week\"]].drop_duplicates().dropna()\n",
    "df"
   ]
  },
  {
   "cell_type": "markdown",
   "id": "2e51f396",
   "metadata": {},
   "source": [
    "Do some manual value mapping"
   ]
  },
  {
   "cell_type": "code",
   "execution_count": null,
   "id": "94befb88",
   "metadata": {
    "execution": {
     "iopub.execute_input": "2022-06-15T08:45:57.139776Z",
     "iopub.status.busy": "2022-06-15T08:45:57.139554Z",
     "iopub.status.idle": "2022-06-15T08:45:57.507543Z",
     "shell.execute_reply": "2022-06-15T08:45:57.506832Z"
    }
   },
   "outputs": [],
   "source": [
    "df[\"year\"] = df[\"year_week\"].apply(lambda x: x.split(\"-\")[0])\n",
    "def pick_month(x):\n",
    "    return x \n",
    "\n",
    "def replace_month(x):\n",
    "    month = int(x.split(\"-\")[1])-1\n",
    "    year = x.split(\"-\")[0]\n",
    "    if month < 5:\n",
    "        month='01'\n",
    "        # month='JAN'\n",
    "    elif month < 9:\n",
    "        month='02'\n",
    "        # month='FEB'\n",
    "    elif month < 14:\n",
    "        month='03'\n",
    "        # month='MAR'\n",
    "    elif month < 18:\n",
    "        month='04'\n",
    "        # month='APR'\n",
    "    elif month < 23:\n",
    "        month='05'\n",
    "        # month='MAY'\n",
    "    elif month < 27:\n",
    "        month='06'\n",
    "        # month='JUN'\n",
    "    elif month < 32:\n",
    "        month='07'\n",
    "        # month='JUL'\n",
    "    elif month < 37:\n",
    "        month='08'\n",
    "        # month='AUG'\n",
    "    elif month < 41:\n",
    "        month='09'\n",
    "        # month='SEP'\n",
    "    elif month < 45:\n",
    "        month='10'\n",
    "        # month='OCT'\n",
    "    elif month < 49:\n",
    "        month='11'\n",
    "        # month='NOV'\n",
    "    elif month < 53:\n",
    "        month='12'\n",
    "        # month='DEC'\n",
    "    else:\n",
    "        print(x)\n",
    "        sys.exit(1)\n",
    "    return year + \"-\" + month\n",
    "\n",
    "df[\"month\"] = df[\"year_week\"].apply(lambda x: replace_month(pick_month(x)))\n",
    "df[\"year_week\"] = df.apply(lambda x: x[\"month\"] + \"-\" + x[\"year_week\"].split(\"-\")[1], axis=1)\n",
    "df = df.rename(columns={'year_week': 'week'})\n",
    "\n",
    "df"
   ]
  },
  {
   "cell_type": "markdown",
   "id": "cec98856",
   "metadata": {},
   "source": [
    "Flatten indicator to deaths and cases"
   ]
  },
  {
   "cell_type": "code",
   "execution_count": null,
   "id": "24c9a2d1",
   "metadata": {
    "execution": {
     "iopub.execute_input": "2022-06-15T08:45:57.509652Z",
     "iopub.status.busy": "2022-06-15T08:45:57.509490Z",
     "iopub.status.idle": "2022-06-15T08:46:28.519611Z",
     "shell.execute_reply": "2022-06-15T08:46:28.518800Z"
    }
   },
   "outputs": [],
   "source": [
    "def df_to_row(x):\n",
    "    cases = x[x[\"indicator\"] == \"cases\"][\"weekly_count\"].tolist()[0]\n",
    "    deaths = x[x[\"indicator\"] == \"deaths\"][\"weekly_count\"].tolist()[0]\n",
    "    df = pd.DataFrame(columns = [\"deaths\", \"cases\"])\n",
    "    df.loc[0] = [deaths, cases]\n",
    "    return df\n",
    "    \n",
    "df = df.groupby([\"country\", \"continent\", \"population\", \"week\", \"year\", \"month\"]).apply(lambda x: df_to_row(x)).reset_index()\n",
    "df"
   ]
  },
  {
   "cell_type": "code",
   "execution_count": null,
   "id": "6154a636",
   "metadata": {
    "execution": {
     "iopub.execute_input": "2022-06-15T08:46:28.521680Z",
     "iopub.status.busy": "2022-06-15T08:46:28.521474Z",
     "iopub.status.idle": "2022-06-15T08:46:28.605898Z",
     "shell.execute_reply": "2022-06-15T08:46:28.605307Z"
    }
   },
   "outputs": [],
   "source": [
    "df.drop(labels=[\"level_6\"], inplace=True, axis=1)\n",
    "ft = df[[\"country\", \"deaths\", \"cases\", \"week\"]].drop_duplicates()\n",
    "ft.to_csv(\"generated/ft.csv\", index=False)\n",
    "dt1 = df[[\"country\", \"continent\", \"population\"]].drop_duplicates()\n",
    "dt1.to_csv(\"generated/dt_space.csv\", index=False)\n",
    "dt2 = df[[\"year\", \"month\", \"week\"]].drop_duplicates()\n",
    "dt2.to_csv(\"generated/dt_time.csv\", index=False)"
   ]
  },
  {
   "cell_type": "markdown",
   "id": "e677c4e5",
   "metadata": {},
   "source": [
    "Write the dataframe to oracle (if needed)\n",
    "\n",
    "Note that this writes strings as Oracle CLOB, which are a mess to join. An ugly workaround is\n",
    "\n",
    "```\n",
    "create table foo (country varchar2(255), continent varchar2(255), population varchar2(255));\n",
    "insert into foo select country, continent, population from dt_space;\n",
    "drop table dt_space;\n",
    "rename foo to dt_space;\n",
    "\n",
    "create table foo (week varchar2(255), year varchar2(255), month varchar2(255));\n",
    "insert into foo select week, year, month from dt_time;\n",
    "drop table dt_time;\n",
    "rename foo to dt_time;\n",
    "\n",
    "create table foo (week varchar2(255), country varchar2(255), deaths int, cases int);\n",
    "insert into foo select week, country, deaths, cases from ft;\n",
    "drop table ft;\n",
    "rename foo to ft;\n",
    "\n",
    "alter table ft add primary key(week, country);\n",
    "alter table dt_space add primary key(country);\n",
    "alter table dt_time add primary key(week);\n",
    "alter table ft ADD CONSTRAINT fk_time foreign key (week) references dt_time(week);\n",
    "alter table ft ADD CONSTRAINT fk_space foreign key (country) references dt_space(country);\n",
    "\n",
    "select * from dt_time where month = '2020-AUG';\n",
    "select count(*) from (select* from ft, dt_time where ft.week = dt_time.week);\n",
    "ALTER TABLE ft DROP CONSTRAINT fk_time;\n",
    "alter table ft ADD CONSTRAINT fk_time foreign key (week) references dt_time(week);\n",
    "UPDATE ft t  SET week = REPLACE(t.week, 'AGO', 'AUG');\n",
    "UPDATE dt_time t  SET week = REPLACE(t.week, 'AGO', 'AUG');\n",
    "select * from \"MEMBER\" where member_name like '%AUG%';\n",
    "UPDATE \"MEMBER\" t  SET member_name = REPLACE(t.member_name, 'AGO', 'AUG');\n",
    "```"
   ]
  },
  {
   "cell_type": "code",
   "execution_count": null,
   "id": "366ee33a",
   "metadata": {
    "execution": {
     "iopub.execute_input": "2022-06-15T08:46:28.608257Z",
     "iopub.status.busy": "2022-06-15T08:46:28.608071Z",
     "iopub.status.idle": "2022-06-15T08:46:28.616292Z",
     "shell.execute_reply": "2022-06-15T08:46:28.615465Z"
    }
   },
   "outputs": [],
   "source": [
    "g = dt1.groupby(\"country\").count().reset_index()\n",
    "g[g[\"continent\"] > 1]"
   ]
  },
  {
   "cell_type": "code",
   "execution_count": null,
   "id": "1846a153",
   "metadata": {
    "execution": {
     "iopub.execute_input": "2022-06-15T08:46:28.660798Z",
     "iopub.status.busy": "2022-06-15T08:46:28.660601Z",
     "iopub.status.idle": "2022-06-15T08:46:28.680305Z",
     "shell.execute_reply": "2022-06-15T08:46:28.679678Z"
    }
   },
   "outputs": [],
   "source": [
    "statements = [\n",
    "    \"drop table ft\",\n",
    "    \"drop table dt_space\",\n",
    "    \"drop table dt_time\",\n",
    "]\n",
    "\n",
    "for statement in statements:\n",
    "    try:\n",
    "        print(statement)\n",
    "        engine.execute(statement)\n",
    "    except:\n",
    "        pass"
   ]
  },
  {
   "cell_type": "code",
   "execution_count": null,
   "id": "2da2ab7d",
   "metadata": {
    "execution": {
     "iopub.execute_input": "2022-06-15T08:46:28.683024Z",
     "iopub.status.busy": "2022-06-15T08:46:28.682368Z",
     "iopub.status.idle": "2022-06-15T08:47:20.401492Z",
     "shell.execute_reply": "2022-06-15T08:47:20.400831Z"
    },
    "scrolled": true
   },
   "outputs": [],
   "source": [
    "# df.to_sql('covid_raw_data', engine, if_exists='replace', index=False)\n",
    "ft.to_sql('ft', engine,  index=False, chunksize=10000) # if_exists='replace', # , method='multi'\n",
    "print(\"Done ft\")\n",
    "dt1.to_sql('dt_space', engine, index=False, chunksize=10000) # if_exists='replace', # , method='multi'\n",
    "print(\"Done dt_space\")\n",
    "dt2.to_sql('dt_time', engine, index=False, chunksize=10000) # if_exists='replace', # , method='multi'\n",
    "print(\"Done dt_time\")"
   ]
  },
  {
   "cell_type": "markdown",
   "id": "0949b17b",
   "metadata": {},
   "source": [
    "Post-processing the data"
   ]
  },
  {
   "cell_type": "code",
   "execution_count": null,
   "id": "a49f3958",
   "metadata": {
    "execution": {
     "iopub.execute_input": "2022-06-15T08:47:20.403633Z",
     "iopub.status.busy": "2022-06-15T08:47:20.403302Z",
     "iopub.status.idle": "2022-06-15T08:47:20.730523Z",
     "shell.execute_reply": "2022-06-15T08:47:20.729949Z"
    },
    "scrolled": true
   },
   "outputs": [],
   "source": [
    "statements = [\n",
    "    \"create table foo (country varchar2(255), continent varchar2(255), population varchar2(255))\",\n",
    "    \"insert into foo select country, continent, population from dt_space\",\n",
    "    \"drop table dt_space\",\n",
    "    \"rename foo to dt_space\",\n",
    "    \"create table foo (week varchar2(255), year varchar2(255), month varchar2(255))\",\n",
    "    \"insert into foo select week, year, month from dt_time\",\n",
    "    \"drop table dt_time\",\n",
    "    \"rename foo to dt_time\",\n",
    "    \"create table foo (week varchar2(255), country varchar2(255), deaths int, cases int)\",\n",
    "    \"insert into foo select week, country, deaths, cases from ft\",\n",
    "    \"drop table ft\",\n",
    "    \"rename foo to ft\",\n",
    "    \"alter table ft add primary key(week, country)\",\n",
    "    \"alter table dt_space add primary key(country)\",\n",
    "    \"alter table dt_time add primary key(week)\",\n",
    "    \"alter table ft ADD CONSTRAINT fk_time foreign key (week) references dt_time(week)\",\n",
    "    \"alter table ft ADD CONSTRAINT fk_space foreign key (country) references dt_space(country)\",\n",
    "    \"select * from dt_time where month = '2020-AUG'\",\n",
    "    \"select count(*) from (select* from ft, dt_time where ft.week = dt_time.week)\",\n",
    "    \"ALTER TABLE ft DROP CONSTRAINT fk_time\",\n",
    "    \"alter table ft ADD CONSTRAINT fk_time foreign key (week) references dt_time(week)\"]\n",
    "\n",
    "for statement in statements:\n",
    "    print(statement)\n",
    "    engine.execute(statement)"
   ]
  },
  {
   "cell_type": "markdown",
   "id": "493b9fb5",
   "metadata": {},
   "source": [
    "Feed the metadata structure"
   ]
  },
  {
   "cell_type": "code",
   "execution_count": null,
   "id": "e89ca74c",
   "metadata": {},
   "outputs": [],
   "source": [
    "statements = [\n",
    "    \"\"\"DROP TABLE database CASCADE CONSTRAINTS\"\"\",\n",
    "    \"\"\"CREATE TABLE database (\n",
    "       database_id varchar2(255) NOT NULL,\n",
    "       database_name varchar2(255) NOT NULL,\n",
    "       IPaddress varchar2(16) NOT NULL,\n",
    "       port NUMBER NOT NULL,\n",
    "       PRIMARY KEY (database_id),\n",
    "       UNIQUE(database_name, IPaddress, port)\n",
    "    )\"\"\",\n",
    "    \"\"\"DROP TABLE groupbyoperator CASCADE CONSTRAINTS\"\"\",\n",
    "    \"\"\"CREATE TABLE groupbyoperator (\n",
    "       groupbyoperator_id varchar2(255) NOT NULL,\n",
    "       groupbyoperator_name varchar2(255) NOT NULL UNIQUE,\n",
    "       groupbyoperator_synonyms varchar2(1000),\n",
    "       PRIMARY KEY (groupbyoperator_id)\n",
    "    )\"\"\",\n",
    "    \"\"\"DROP TABLE hierarchy CASCADE CONSTRAINTS\"\"\",\n",
    "    \"\"\"CREATE TABLE hierarchy (\n",
    "       hierarchy_id varchar2(255) NOT NULL,\n",
    "       hierarchy_name varchar2(255) NOT NULL UNIQUE,\n",
    "       hierarchy_synonyms varchar2(1000),\n",
    "       PRIMARY KEY (hierarchy_id)\n",
    "    )\"\"\",\n",
    "    \"\"\"DROP TABLE fact CASCADE CONSTRAINTS\"\"\",\n",
    "    \"\"\"CREATE TABLE fact (\n",
    "       fact_id varchar2(255) NOT NULL,\n",
    "       fact_name varchar2(255) NOT NULL UNIQUE,\n",
    "       fact_synonyms varchar2(1000),\n",
    "       database_id varchar2(255) NULL REFERENCES database (database_id) ON DELETE CASCADE,\n",
    "       PRIMARY KEY (fact_id)\n",
    "    )\"\"\",\n",
    "    \"\"\"DROP TABLE \"TABLE\" CASCADE CONSTRAINTS\"\"\",\n",
    "    \"\"\"CREATE TABLE \"TABLE\" (\n",
    "       table_id varchar2(255) NOT NULL,\n",
    "       table_name varchar2(255) NOT NULL UNIQUE,\n",
    "       table_type varchar2(255) NOT NULL,\n",
    "       fact_id varchar2(255) DEFAULT NULL REFERENCES fact (fact_id),\n",
    "       hierarchy_id varchar2(255) DEFAULT NULL REFERENCES hierarchy (hierarchy_id) ON DELETE CASCADE,\n",
    "       PRIMARY KEY (table_id)\n",
    "    )\"\"\",\n",
    "    \"\"\"DROP TABLE relationship CASCADE CONSTRAINTS\"\"\",\n",
    "    \"\"\"CREATE TABLE relationship (\n",
    "       relationship_id varchar2(255) NOT NULL,\n",
    "       table1 varchar2(255) NOT NULL REFERENCES \"TABLE\" (table_id) ON DELETE CASCADE,\n",
    "       table2 varchar2(255) NOT NULL REFERENCES \"TABLE\" (table_id) ON DELETE CASCADE,\n",
    "       PRIMARY KEY (relationship_id)\n",
    "    )\"\"\",\n",
    "    \"\"\"DROP TABLE \"COLUMN\" CASCADE CONSTRAINTS\"\"\",\n",
    "    \"\"\"CREATE TABLE \"COLUMN\" (\n",
    "       column_id varchar2(255) NOT NULL,\n",
    "       column_name varchar2(255) NOT NULL,\n",
    "       column_type varchar2(255) NOT NULL,\n",
    "       isKey number(1)  NOT NULL,\n",
    "       relationship_id varchar2(255) DEFAULT NULL,\n",
    "       table_id varchar2(255) NOT NULL REFERENCES \"TABLE\"(table_id) ON DELETE CASCADE,\n",
    "       PRIMARY KEY (column_id) -- , UNIQUE (column_name, table_id)\n",
    "    )\"\"\",\n",
    "    \"\"\"DROP TABLE \"LEVEL\" CASCADE CONSTRAINTS\"\"\",\n",
    "    \"\"\"CREATE TABLE \"LEVEL\" (\n",
    "       level_id varchar2(255) NOT NULL,\n",
    "       level_type varchar2(255) NOT NULL,\n",
    "       level_description varchar2(200),\n",
    "       level_name varchar2(255) NOT NULL UNIQUE,\n",
    "       cardinality NUMBER DEFAULT NULL,\n",
    "       hierarchy_id varchar2(255) NOT NULL REFERENCES \"HIERARCHY\" (hierarchy_id) ON DELETE CASCADE,\n",
    "       level_synonyms varchar2(1000),\n",
    "       column_id varchar2(255) NOT NULL REFERENCES \"COLUMN\"(column_id),\n",
    "       \"MIN\" DOUBLE PRECISION DEFAULT NULL,\n",
    "       \"MAX\" DOUBLE PRECISION DEFAULT NULL,\n",
    "       \"AVG\" DOUBLE PRECISION DEFAULT NULL,\n",
    "       isDescriptive NUMBER(1) DEFAULT 0,\n",
    "       mindate DATE DEFAULT NULL,\n",
    "       maxdate DATE DEFAULT NULL,\n",
    "       PRIMARY KEY (level_id)\n",
    "    )\"\"\",\n",
    "    \"\"\"DROP TABLE hierarchy_in_fact CASCADE CONSTRAINTS\"\"\",\n",
    "    \"\"\"CREATE TABLE hierarchy_in_fact (\n",
    "       fact_id varchar2(255) NOT NULL REFERENCES fact (fact_id),\n",
    "       hierarchy_id varchar2(255) NOT NULL REFERENCES hierarchy (hierarchy_id) ON DELETE CASCADE,\n",
    "       PRIMARY KEY (fact_id, hierarchy_id)\n",
    "    )\"\"\",\n",
    "    \"\"\"DROP TABLE language_predicate CASCADE CONSTRAINTS\"\"\",\n",
    "    \"\"\"CREATE TABLE language_predicate (\n",
    "       language_predicate_id varchar2(255) NOT NULL,\n",
    "       language_predicate_name varchar2(255) NOT NULL UNIQUE,\n",
    "       language_predicate_synonyms varchar2(1000) DEFAULT NULL,\n",
    "       language_predicate_type varchar2(255) DEFAULT NULL,\n",
    "       PRIMARY KEY (language_predicate_id)\n",
    "    )\"\"\",\n",
    "    \"\"\"DROP TABLE language_operator CASCADE CONSTRAINTS\"\"\",\n",
    "    \"\"\"CREATE TABLE language_operator (\n",
    "       language_operator_id varchar2(255) NOT NULL,\n",
    "       language_operator_name varchar2(255) NOT NULL UNIQUE,\n",
    "       language_operator_synonyms varchar2(1000) DEFAULT NULL,\n",
    "       language_operator_type varchar2(255) DEFAULT NULL,\n",
    "       PRIMARY KEY (language_operator_id)\n",
    "    )\"\"\",\n",
    "    \"\"\"DROP TABLE measure CASCADE CONSTRAINTS\"\"\",\n",
    "    \"\"\"CREATE TABLE measure (\n",
    "       measure_id varchar2(255) NOT NULL,\n",
    "       measure_name varchar2(255) NOT NULL,\n",
    "       fact_id varchar2(255) NOT NULL REFERENCES fact (fact_id),\n",
    "       measure_synonyms varchar2(1000),\n",
    "       column_id varchar2(255) NOT NULL REFERENCES \"COLUMN\" (column_id) ON DELETE CASCADE,\n",
    "       PRIMARY KEY (measure_id),\n",
    "       UNIQUE(measure_name, fact_id)\n",
    "    )\"\"\",\n",
    "    \"\"\"DROP TABLE member CASCADE CONSTRAINTS\"\"\",\n",
    "    \"\"\"CREATE TABLE member (\n",
    "       member_id varchar2(255) NOT NULL,\n",
    "       member_name varchar2(255) NOT NULL,\n",
    "       level_id varchar2(255) NOT NULL REFERENCES \"LEVEL\" (level_id) ON DELETE CASCADE,\n",
    "       member_synonyms varchar2(1000),\n",
    "       PRIMARY KEY (member_id),\n",
    "       UNIQUE(member_name, level_id)\n",
    "    )\"\"\",\n",
    "    \"\"\"DROP TABLE groupbyoperator_of_measure CASCADE CONSTRAINTS\"\"\",\n",
    "    \"\"\"CREATE TABLE groupbyoperator_of_measure (\n",
    "       groupbyoperator_id varchar2(255) NOT NULL REFERENCES groupbyoperator (groupbyoperator_id) ON DELETE CASCADE,\n",
    "       measure_id varchar2(255) NOT NULL REFERENCES measure (measure_id) ON DELETE CASCADE,\n",
    "       PRIMARY KEY (groupbyoperator_id, measure_id)\n",
    "    )\"\"\",\n",
    "    \"\"\"DROP TABLE \"SYNONYM\" CASCADE CONSTRAINTS\"\"\",\n",
    "    \"\"\"CREATE TABLE \"SYNONYM\" (\n",
    "       synonym_id varchar2(255) NOT NULL,\n",
    "       table_name varchar2(255) NOT NULL,\n",
    "       reference_id varchar2(255) NOT NULL,\n",
    "       \"TERM\" varchar2(255) NOT NULL,\n",
    "       PRIMARY KEY (synonym_id),\n",
    "       UNIQUE(term, reference_id, table_name)\n",
    "    )\"\"\",\n",
    "    \"\"\"DROP TABLE OLAPSESSION CASCADE CONSTRAINTS\"\"\",\n",
    "    \"\"\"CREATE TABLE OLAPSESSION (\n",
    "       \"TIMESTAMP\" NUMBER,\n",
    "       session_id varchar2(255),\n",
    "       annotation_id varchar2(255),\n",
    "       value_en varchar2(1000),\n",
    "       value_ita varchar2(1000),\n",
    "       limit long,\n",
    "       fullquery_serialized blob,\n",
    "       fullquery_tree varchar2(1000),\n",
    "       olapoperator_serialized blob\n",
    "    )\"\"\",\n",
    "    # \"\"\"CREATE MATERIALIZED VIEW ssb_members\n",
    "    #    BUILD IMMEDIATE\n",
    "    #    REFRESH COMPLETE\n",
    "    #    ENABLE QUERY REWRITE\n",
    "    #    AS select m.MEMBER_ID, m.MEMBER_NAME, l.LEVEL_ID, l.LEVEL_NAME, l.LEVEL_TYPE, t.TABLE_ID, t.TABLE_NAME, c.COLUMN_NAME\n",
    "    #       from \"LEVEL\" l JOIN \"COLUMN\" c ON(l.COLUMN_ID = c.COLUMN_ID) JOIN \"TABLE\" t ON(c.TABLE_ID = t.TABLE_ID) LEFT JOIN \"MEMBER\" m on (l.LEVEL_ID = m.LEVEL_ID)\"\"\"\n",
    "]\n",
    "for statement in statements:\n",
    "    try:\n",
    "        engine.execute(statement)\n",
    "    except Exception as e:\n",
    "        print(statement)\n",
    "        print(e)"
   ]
  }
 ],
 "metadata": {
  "interpreter": {
   "hash": "369f2c481f4da34e4445cda3fffd2e751bd1c4d706f27375911949ba6bb62e1c"
  },
  "kernelspec": {
   "display_name": "Python 3 (ipykernel)",
   "language": "python",
   "name": "python3"
  },
  "language_info": {
   "codemirror_mode": {
    "name": "ipython",
    "version": 3
   },
   "file_extension": ".py",
   "mimetype": "text/x-python",
   "name": "python",
   "nbconvert_exporter": "python",
   "pygments_lexer": "ipython3",
   "version": "3.10.4"
  }
 },
 "nbformat": 4,
 "nbformat_minor": 5
}
